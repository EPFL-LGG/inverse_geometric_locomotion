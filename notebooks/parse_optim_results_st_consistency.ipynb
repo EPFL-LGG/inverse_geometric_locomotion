{
 "cells": [
  {
   "cell_type": "code",
   "execution_count": null,
   "metadata": {},
   "outputs": [],
   "source": [
    "import sys as _sys\n",
    "import os\n",
    "\n",
    "current_path = os.path.abspath(os.getcwd())\n",
    "\n",
    "split = current_path.split(\"inverse_geometric_locomotion\")\n",
    "if len(split)<2:\n",
    "    print(\"Please rename the repository 'inverse_geometric_locomotion'\")\n",
    "    raise ValueError\n",
    "path_to_python_scripts = os.path.join(split[0], \"inverse_geometric_locomotion/python/\")\n",
    "path_to_notifications = os.path.join(split[0], \"inverse_geometric_locomotion/notebooks/notifications/\")\n",
    "path_to_settings = os.path.join(split[0], \"inverse_geometric_locomotion/python/figures/\")\n",
    "path_to_cubic_splines = os.path.join(split[0], \"inverse_geometric_locomotion/ext/torchcubicspline/\")\n",
    "path_to_output = os.path.join(split[0], \"inverse_geometric_locomotion/output/\")\n",
    "path_to_data = path_to_output\n",
    "path_to_save = os.path.join(path_to_output, \"output/st_consistency\")\n",
    "\n",
    "_sys.path.insert(0, path_to_python_scripts)\n",
    "_sys.path.insert(0, path_to_settings)\n",
    "_sys.path.insert(0, path_to_cubic_splines)"
   ]
  },
  {
   "cell_type": "code",
   "execution_count": null,
   "metadata": {},
   "outputs": [],
   "source": [
    "import json\n",
    "from vis_utils import print_json_data"
   ]
  },
  {
   "cell_type": "markdown",
   "metadata": {},
   "source": [
    "## Load data\n",
    "\n",
    "This notebook can be used to read files generated from executing `python/experiments/snake_space_time_consistency.py`. The following list assumes you have executed the experiment script successfully."
   ]
  },
  {
   "cell_type": "code",
   "execution_count": null,
   "metadata": {},
   "outputs": [],
   "source": [
    "list_n_ts = [20, 40, 60]\n",
    "list_n_points_snake = [10, 30, 80]\n",
    "for n_ts in list_n_ts:\n",
    "    for n_points_snake in list_n_points_snake:\n",
    "        exp_file_name = \"snake_spacetime_consistency_timings/snake_opt_nts_{}_npts_{}.json\".format(n_ts, n_points_snake)\n",
    "\n",
    "        with open(os.path.join(path_to_data, exp_file_name)) as jsonFile:\n",
    "            js_load = json.load(jsonFile)\n",
    "            \n",
    "        print(exp_file_name)\n",
    "        print_json_data(js_load)\n",
    "        print()"
   ]
  },
  {
   "cell_type": "code",
   "execution_count": null,
   "metadata": {},
   "outputs": [],
   "source": []
  }
 ],
 "metadata": {
  "kernelspec": {
   "display_name": "mfsc_env",
   "language": "python",
   "name": "python3"
  },
  "language_info": {
   "codemirror_mode": {
    "name": "ipython",
    "version": 3
   },
   "file_extension": ".py",
   "mimetype": "text/x-python",
   "name": "python",
   "nbconvert_exporter": "python",
   "pygments_lexer": "ipython3",
   "version": "3.11.9"
  }
 },
 "nbformat": 4,
 "nbformat_minor": 2
}
