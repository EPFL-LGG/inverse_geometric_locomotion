{
 "cells": [
  {
   "cell_type": "code",
   "execution_count": null,
   "metadata": {},
   "outputs": [],
   "source": [
    "import sys as _sys\n",
    "import os\n",
    "\n",
    "current_path = os.path.abspath(os.getcwd())\n",
    "\n",
    "split = current_path.split(\"inverse_geometric_locomotion\")\n",
    "if len(split)<2:\n",
    "    print(\"Please rename the repository 'inverse_geometric_locomotion'\")\n",
    "    raise ValueError\n",
    "path_to_python_scripts = os.path.join(split[0], \"inverse_geometric_locomotion/python/\")\n",
    "path_to_notifications = os.path.join(split[0], \"inverse_geometric_locomotion/notebooks/notifications/\")\n",
    "path_to_settings = os.path.join(split[0], \"inverse_geometric_locomotion/python/figures/\")\n",
    "path_to_cubic_splines = os.path.join(split[0], \"inverse_geometric_locomotion/ext/torchcubicspline/\")\n",
    "path_to_output = os.path.join(split[0], \"inverse_geometric_locomotion/output/\")\n",
    "path_to_data = path_to_output\n",
    "\n",
    "_sys.path.insert(0, path_to_python_scripts)\n",
    "_sys.path.insert(0, path_to_settings)\n",
    "_sys.path.insert(0, path_to_cubic_splines)"
   ]
  },
  {
   "cell_type": "code",
   "execution_count": null,
   "metadata": {},
   "outputs": [],
   "source": [
    "import json\n",
    "import matplotlib.pyplot as plt\n",
    "import numpy as np\n",
    "import torch\n",
    "from vis_utils import print_json_data"
   ]
  },
  {
   "cell_type": "markdown",
   "metadata": {},
   "source": [
    "## Load data\n",
    "\n",
    "This notebook can be used to read files generated from executing `python/experiments/astronaut.py`. The following list assumes you have executed the experiment script successfully with the flag `--trial_number=0`. \n",
    "\n",
    "As you run more experiments with different `trial_number`, you can add the output path to the list `exp_file_names` with the corresponding file locations. The naming convention for `.json` files is `*_opt_{trial_number}.json`, where `{trial_number}` always has two digits."
   ]
  },
  {
   "cell_type": "code",
   "execution_count": null,
   "metadata": {},
   "outputs": [],
   "source": [
    "exp_file_names = [\n",
    "    \"astronaut_all_vertices/astronaut_opt_00.json\",\n",
    "]\n",
    "\n",
    "list_js_loads = []\n",
    "for exp_file_name in exp_file_names:\n",
    "    with open(os.path.join(path_to_data, exp_file_name)) as jsonFile:\n",
    "        js_load = json.load(jsonFile)\n",
    "\n",
    "    print(exp_file_name)\n",
    "    print_json_data(js_load)\n",
    "    list_js_loads.append(js_load)\n",
    "\n",
    "print(\"\\nLoaded {} experiments.\".format(len(list_js_loads)))"
   ]
  },
  {
   "cell_type": "markdown",
   "metadata": {},
   "source": [
    "## Plot edge length preservation\n",
    "\n",
    "Make sure the soft isometry constraint is small enough by plotting its evolution. \n",
    "\n",
    "You can select which experiment to plot from the list in the previous cell `exp_file_names` by changing `exp_id` accordingly. By default, the first element of the list is used."
   ]
  },
  {
   "cell_type": "code",
   "execution_count": null,
   "metadata": {},
   "outputs": [],
   "source": [
    "exp_id = 0 # You can change this to plot a different experiment\n",
    "js_load = list_js_loads[exp_id]\n",
    "\n",
    "pos_ = torch.tensor(js_load['pos'])\n",
    "pos = np.array(js_load['pos'])\n",
    "edges_graph = torch.tensor(js_load['optimization_settings']['edges_graph'])\n",
    "length_threshold = js_load['optimization_settings']['repulsion_length_threshold']\n",
    "n_edge_disc = js_load['optimization_settings']['n_edge_disc']\n",
    "n_ts = pos.shape[0]\n",
    "g = np.array(js_load['g'])\n",
    "gt = np.array(js_load['optimization_settings']['gt'])\n",
    "params_opt = np.array(js_load['optimization_settings']['params_opt'])\n",
    "initial_edge_lengths = torch.tensor(js_load['optimization_settings']['initial_edge_lengths'])\n",
    "\n",
    "new_edge_lengths = torch.linalg.norm((pos_[:, edges_graph[:, 0]] - pos_[:, edges_graph[:, 1]]), dim=-1) # shape (n_steps, n_edges)\n",
    "\n",
    "n_edges = edges_graph.shape[0]\n",
    "alphas = torch.linspace(0.0, 1.0, n_edge_disc + 2)[1:-1].reshape(1, 1, -1, 1) # shape (n_edge_disc,)\n",
    "edge_disc = pos_[:, edges_graph[:, 0]].unsqueeze(2) * (1.0 - alphas) + pos_[:, edges_graph[:, 1]].unsqueeze(2) * alphas # shape (n_steps, n_edges, n_edge_disc, 3)\n",
    "edge_disc_pd = torch.sqrt(1.0e-12 + torch.sum((edge_disc.reshape(pos_.shape[0], n_edges, 1, n_edge_disc, 1, 3) - edge_disc.reshape(pos_.shape[0], 1, n_edges, 1, n_edge_disc, 3)) ** 2, dim=-1)) # shape (n_steps, n_edges, n_edges, n_edge_disc, n_edge_disc)\n",
    "idx_upper_edge_disc = torch.triu_indices(n_edge_disc, n_edge_disc, offset=0)\n",
    "edge_to_edge_min_dist = torch.min(edge_disc_pd[:, :, :, idx_upper_edge_disc[0], idx_upper_edge_disc[1]], dim=-1)[0] # shape (n_steps, n_edges, n_edges)\n",
    "idx_upper_edges = torch.triu_indices(n_edges, n_edges, offset=1)\n",
    "pairwise_distances_edges = edge_to_edge_min_dist[:, idx_upper_edges[0], idx_upper_edges[1]] # shape (n_steps, n_edges * (n_edges-1) / 2)\n",
    "min_pd_diff = torch.min(pairwise_distances_edges- length_threshold, dim=-1)[0] # shape (n_steps,)\n",
    "energy_edges_per_time = 0.5 * torch.mean(torch.relu(- (pairwise_distances_edges - length_threshold) ** 2 * torch.log(pairwise_distances_edges / length_threshold)), dim=-1) # IPC\n",
    "\n",
    "plt.figure(figsize=(6, 3))\n",
    "plt.plot(100.0 * torch.mean(torch.abs(new_edge_lengths - initial_edge_lengths.reshape(1, -1)), dim=0) / initial_edge_lengths, lw=3.0)\n",
    "plt.title(\"Edge length change (%)\")\n",
    "plt.show()\n",
    "\n",
    "plt.figure(figsize=(6, 3))\n",
    "plt.plot(min_pd_diff, lw=3.0)\n",
    "plt.title(\"Minimum edge to edge distance - threshold\")\n",
    "plt.show()"
   ]
  },
  {
   "cell_type": "code",
   "execution_count": null,
   "metadata": {},
   "outputs": [],
   "source": []
  }
 ],
 "metadata": {
  "kernelspec": {
   "display_name": "mfsc_env",
   "language": "python",
   "name": "python3"
  },
  "language_info": {
   "codemirror_mode": {
    "name": "ipython",
    "version": 3
   },
   "file_extension": ".py",
   "mimetype": "text/x-python",
   "name": "python",
   "nbconvert_exporter": "python",
   "pygments_lexer": "ipython3",
   "version": "3.11.0"
  }
 },
 "nbformat": 4,
 "nbformat_minor": 2
}
