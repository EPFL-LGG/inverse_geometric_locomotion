{
 "cells": [
  {
   "cell_type": "code",
   "execution_count": null,
   "metadata": {},
   "outputs": [],
   "source": [
    "import sys as _sys\n",
    "import os\n",
    "\n",
    "current_path = os.path.abspath(os.getcwd())\n",
    "\n",
    "split = current_path.split(\"inverse_geometric_locomotion\")\n",
    "if len(split)<2:\n",
    "    print(\"Please rename the repository 'inverse_geometric_locomotion'\")\n",
    "    raise ValueError\n",
    "path_to_python_scripts = os.path.join(split[0], \"inverse_geometric_locomotion/python/\")\n",
    "path_to_notifications = os.path.join(split[0], \"inverse_geometric_locomotion/notebooks/notifications/\")\n",
    "path_to_settings = os.path.join(split[0], \"inverse_geometric_locomotion/python/figures/\")\n",
    "path_to_cubic_splines = os.path.join(split[0], \"inverse_geometric_locomotion/ext/torchcubicspline/\")\n",
    "path_to_output = os.path.join(split[0], \"inverse_geometric_locomotion/output/\")\n",
    "path_to_data = path_to_output\n",
    "path_to_save = os.path.join(path_to_output, \"snake_broken_joint\")\n",
    "\n",
    "_sys.path.insert(0, path_to_python_scripts)\n",
    "_sys.path.insert(0, path_to_settings)\n",
    "_sys.path.insert(0, path_to_cubic_splines)"
   ]
  },
  {
   "cell_type": "code",
   "execution_count": null,
   "metadata": {},
   "outputs": [],
   "source": [
    "import json\n",
    "import matplotlib.pyplot as plt\n",
    "import numpy as np\n",
    "import shutil\n",
    "import torch\n",
    "\n",
    "from physics_quantities_torch import vmap_energy_torch\n",
    "from utils import vmap_euc_transform_torch, vmap_euc_transform_T_torch\n",
    "from vis_utils import produce_video_from_path, print_json_data\n",
    "from vis_utils_snake import plot_animated_snake"
   ]
  },
  {
   "cell_type": "markdown",
   "metadata": {},
   "source": [
    "## Load data\n",
    "\n",
    "This notebook can be used to read files generated from executing `python/experiments/snake_broken_joint.py`. The following list assumes you have executed the experiment script successfully with the flag `--trial_number=0`. \n",
    "\n",
    "As you run more experiments with different `trial_number`, you can add the output path to the list `exp_file_names` with the corresponding file locations. The naming convention for `.json` files is `*_opt_{trial_number}.json`, where `{trial_number}` always has two digits."
   ]
  },
  {
   "cell_type": "code",
   "execution_count": null,
   "metadata": {},
   "outputs": [],
   "source": [
    "exp_file_names = [\n",
    "    \"snake_broken_joint/snake_broken_joints_opt_00.json\",\n",
    "]\n",
    "\n",
    "trial_numbers = [int(fn.split('_')[-1].split('.')[0]) for fn in exp_file_names]\n",
    "exp_names = [\"snake_broken_joints_{:02d}\".format(tn) for tn in trial_numbers]\n",
    "\n",
    "list_js_loads = []\n",
    "for exp_file_name in exp_file_names:\n",
    "    with open(os.path.join(path_to_data, exp_file_name)) as jsonFile:\n",
    "        js_load = json.load(jsonFile)\n",
    "\n",
    "    print(exp_file_name)\n",
    "    print_json_data(js_load)\n",
    "    list_js_loads.append(js_load)\n",
    "\n",
    "print(\"\\nLoaded {} experiments.\".format(len(list_js_loads)))"
   ]
  },
  {
   "cell_type": "markdown",
   "metadata": {},
   "source": [
    "## Plot energy dissipation across experiments\n",
    "\n",
    "Inspect and compare the energy dissipation of the optimal gaits on the same plot for all the experiments listed in `exp_file_names`."
   ]
  },
  {
   "cell_type": "code",
   "execution_count": null,
   "metadata": {},
   "outputs": [],
   "source": [
    "\n",
    "list_energies = []\n",
    "for js_load in list_js_loads:\n",
    "\n",
    "    pos_ = torch.tensor(js_load['pos_'])\n",
    "    pos = torch.tensor(js_load['pos'])\n",
    "    n_points_snake = pos.shape[1]\n",
    "    n_ts = pos.shape[0]\n",
    "    g = torch.tensor(js_load['g'])\n",
    "    gt = torch.tensor(js_load['optimization_settings']['gt'])\n",
    "    params_opt = torch.tensor(js_load['optimization_settings']['params_opt'])\n",
    "    rho = js_load['optimization_settings']['rho']\n",
    "    eps = js_load['optimization_settings']['eps']\n",
    "    \n",
    "    def fun_anisotropy_dir(x):\n",
    "        tangents = torch.zeros_like(x)\n",
    "        tangents[..., 0, :] = x[..., 1, :] - x[..., 0, :]\n",
    "        tangents[..., 1:-1, :] = x[..., 2:, :] - x[..., :-2, :]\n",
    "        tangents[..., -1, :] = x[..., -1, :] - x[..., -2, :]\n",
    "        tangents = tangents / torch.linalg.norm(tangents, dim=-1, keepdims=True)\n",
    "        return tangents\n",
    "\n",
    "    tangents_ = fun_anisotropy_dir(pos_)\n",
    "    pos = vmap_euc_transform_torch(g, pos_)\n",
    "    tangents = vmap_euc_transform_T_torch(g, tangents_)\n",
    "    edge_lengths = np.linalg.norm(pos_[:, 1:] - pos_[:, :-1], axis=-1)\n",
    "    voronoi_cell_lengths = np.zeros(shape=(n_ts, n_points_snake))\n",
    "    voronoi_cell_lengths[:, :-1] = edge_lengths / 2.0\n",
    "    voronoi_cell_lengths[:, 1:] = edge_lengths / 2.0\n",
    "    masses = rho * torch.tensor(np.tile(voronoi_cell_lengths[0], reps=(n_ts, 1)))\n",
    "    a_weights = torch.ones(size=(n_ts, n_points_snake))\n",
    "    b_weights = (eps - 1.0) * torch.ones(size=(n_ts, n_points_snake))\n",
    "\n",
    "    energies = vmap_energy_torch(\n",
    "        pos[:-1], pos[1:], tangents[:-1], tangents[1:], \n",
    "        masses[:-1], masses[1:], a_weights[:-1], a_weights[1:], \n",
    "        b_weights[:-1], b_weights[1:],\n",
    "    )\n",
    "    list_energies.append(energies)\n",
    "\n",
    "fig = plt.figure(figsize=(6, 3))\n",
    "gs = fig.add_gridspec(1, 1)\n",
    "ax_tmp = fig.add_subplot(gs[0, 0])\n",
    "for energies in list_energies:\n",
    "    ax_tmp.plot(energies, lw=3.0, zorder=0)\n",
    "ax_tmp.set_title(\"Dissipation energy\")\n",
    "plt.show()"
   ]
  },
  {
   "cell_type": "markdown",
   "metadata": {},
   "source": [
    "## Produce an animation of the gait\n",
    "\n",
    "Animate the previous plot and save it in the same folder in which you saved the output `.json` files.\n",
    "\n",
    "You can list all the experiments you would like to generate the trajectories from by filling out `exp_id_list` with all the corresponding experiments indices in `exp_file_names`. By default, it will only generate the animation for the first experiment in the list."
   ]
  },
  {
   "cell_type": "code",
   "execution_count": null,
   "metadata": {},
   "outputs": [],
   "source": [
    "exp_id_list = [0] # Update this list with the indices of the experiments you want to animate\n",
    "\n",
    "path_to_images_anim = os.path.join(path_to_save, \"images_registered\")\n",
    "arrow_params = {\n",
    "    \"length\": 0.05,\n",
    "    \"width\": 0.02,\n",
    "}\n",
    "\n",
    "for exp_id in exp_id_list:\n",
    "    print(\"Producing animation for experiment: {}\".format(exp_file_names[exp_id]))\n",
    "\n",
    "    js_load = list_js_loads[exp_id]\n",
    "    exp_name = exp_names[exp_id]\n",
    "    pos_plot = np.array(js_load['pos'])\n",
    "    g_plot = np.array(js_load['g'])\n",
    "    broken_joint_ids = js_load['optimization_settings']['broken_joint_ids']\n",
    "\n",
    "    # clear existing images\n",
    "    if os.path.exists(path_to_images_anim):\n",
    "        shutil.rmtree(path_to_images_anim)\n",
    "    os.makedirs(path_to_images_anim)\n",
    "\n",
    "    plot_animated_snake(\n",
    "        pos_plot, path_to_images_anim,\n",
    "        g=g_plot, gt=gt, gcp=None,\n",
    "        broken_joint_ids=broken_joint_ids, obstacle=None,\n",
    "        exponent=1.0, xy_lim=None, \n",
    "        show_orientation=False, show_snake_trail=False, \n",
    "        show_g_trail=True, show_g_start=True, show_joints=True,\n",
    "        arrow_params=arrow_params,\n",
    "    )\n",
    "\n",
    "    fn_pattern = os.path.join(path_to_images_anim, \"step_%05d.png\")\n",
    "    produce_video_from_path(\n",
    "        fn_pattern, path_to_save, \n",
    "        \"{}_pos.mp4\".format(exp_name), overwrite_anim=True, transparent=False\n",
    "    )"
   ]
  },
  {
   "cell_type": "code",
   "execution_count": null,
   "metadata": {},
   "outputs": [],
   "source": []
  }
 ],
 "metadata": {
  "kernelspec": {
   "display_name": "mfsc_env",
   "language": "python",
   "name": "python3"
  },
  "language_info": {
   "codemirror_mode": {
    "name": "ipython",
    "version": 3
   },
   "file_extension": ".py",
   "mimetype": "text/x-python",
   "name": "python",
   "nbconvert_exporter": "python",
   "pygments_lexer": "ipython3",
   "version": "3.11.0"
  }
 },
 "nbformat": 4,
 "nbformat_minor": 2
}
